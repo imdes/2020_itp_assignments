{
 "cells": [
  {
   "cell_type": "markdown",
   "metadata": {},
   "source": [
    "# Introduction to Programming (Online 2020)\n",
    "\n",
    "## Assignment 2"
   ]
  },
  {
   "cell_type": "markdown",
   "metadata": {},
   "source": [
    "### Question 1\n",
    "\n",
    "#### String Handling\n",
    "#### 1.1) \n",
    "Complete the following function which checks whether a DNA sequence is valid. A valid DNA sequence will only contain **'A,a,C,c,G,g,T,t'** characters for this question. If the sequence is valid return **True**, otherwise return **False**.\n",
    "\n",
    "*When running the block, the assert statements will raise errors if your program does not return the correct response.*\n"
   ]
  },
  {
   "cell_type": "code",
   "execution_count": 1,
   "metadata": {},
   "outputs": [
    {
     "output_type": "stream",
     "name": "stdout",
     "text": "\nAll asserts have passed\n"
    }
   ],
   "source": [
    "CHARSET = 'AaCcGgTt'\n",
    "def validity_check(sequence):\n",
    "    for char in sequence:\n",
    "        if char not in CHARSET:\n",
    "            return False\n",
    "    return True\n",
    "\n",
    "assert validity_check('ACGT') == True, 'validity_check(\"ACGT\") returns False, should return True'\n",
    "assert validity_check('acgt') == True, 'validity_check(\"acgt\") returns False, should return True'\n",
    "assert validity_check('AGUC') == False, 'validity_check(\"AGUC\") returns True, should return False'\n",
    "assert validity_check('PPPP') == False, 'validity_check(\"PPPP\") returns True, should return False'\n",
    "\n",
    "print(\"\\nAll asserts have passed\")"
   ]
  },
  {
   "cell_type": "markdown",
   "metadata": {},
   "source": [
    "#### 1.2)\n",
    "Complete the following function which will return the reverse complement of a DNA sequence.\n",
    "\n",
    "The reverse complement is calculated by reversing the sequence and substituting: \n",
    "+ 'A' with 'T'\n",
    "+ 'T' with 'A'\n",
    "+ 'G' with 'C'\n",
    "+ 'C' with 'G'\n",
    "\n",
    "EG:\n",
    "```\n",
    "reverse_complement('AATC')\n",
    "\n",
    "step 1 - reverse the sequence:\n",
    "    reverse = 'CTAA'\n",
    "    \n",
    "step 2 - replace the characters with their complement:\n",
    "    'C' -> 'G'\n",
    "    'T' -> 'A'\n",
    "    'A' -> 'T'\n",
    "    'A' -> 'T'\n",
    "    \n",
    "    complement = 'GATT' \n",
    "```\n",
    "\n",
    "*When running the block, the assert statements will raise errors if your program does not return the correct response.*"
   ]
  },
  {
   "cell_type": "code",
   "execution_count": 5,
   "metadata": {},
   "outputs": [
    {
     "output_type": "stream",
     "name": "stdout",
     "text": "\nAll asserts have passed\n"
    }
   ],
   "source": [
    "RC_MAPPING = {\n",
    "    'A': 'T', \n",
    "    'T': 'A',\n",
    "    'C': 'G',\n",
    "    'G': 'C',\n",
    "    }\n",
    "def reverse_complement(sequence):\n",
    "    result = ''\n",
    "    for char in sequence[::-1]:\n",
    "        tmp = RC_MAPPING[char.upper()]\n",
    "        # Match the case of the original, switching the string to uppwercase/lowercase would also work\n",
    "        if char.islower():\n",
    "            tmp = tmp.lower()\n",
    "        result += tmp\n",
    "    \n",
    "    return result\n",
    "\n",
    "\n",
    "assert reverse_complement('AAGCT') == 'AGCTT', 'reverse_complement(\"AAGCT\") should return \"AGCTT\"'\n",
    "assert reverse_complement('tggca') in ['tgcca','TGCCA'], 'reverse_complement(\"tggca\") should return \"tgcca\"'\n",
    "\n",
    "print(\"\\nAll asserts have passed\")"
   ]
  },
  {
   "cell_type": "markdown",
   "metadata": {},
   "source": [
    "#### 1.3)\n",
    "\n",
    "Write a script which will allow a user to input multiple DNA sequences one at a time. You do not know how many in advance and should take this into account. Your code will then check if the sequence is valid and return the reverse complement if it is. If the sequence is not valid, print an error message alerting the user to this.\n",
    "\n",
    "It would be a good idea to use the functions you created in 1.1 and 1.2\n",
    "\n",
    "```\n",
    "PSEUDOCODE:\n",
    "loop until '' is entered:\n",
    "    prompt user for a new seq\n",
    "    if seq is valid:\n",
    "        output reverse complement\n",
    "    else\n",
    "        output error message indicating that sequence was invalid\n",
    "```"
   ]
  },
  {
   "cell_type": "code",
   "execution_count": 7,
   "metadata": {},
   "outputs": [
    {
     "output_type": "stream",
     "name": "stdout",
     "text": "ttt\nTTT\nGtAt\n"
    }
   ],
   "source": [
    "while True:\n",
    "    inp = input(\"Enter a sequence: \")\n",
    "    if not inp: break\n",
    "    if validity_check(inp):\n",
    "        print(reverse_complement(inp))\n",
    "    else:\n",
    "        print('Invalid sequence')"
   ]
  },
  {
   "cell_type": "markdown",
   "metadata": {},
   "source": [
    "### Question 2\n",
    "\n",
    "In cryptography there are many ways to code messages. An easy method is to shift the alphabet by a given amount, this is known as a Caesar Cipher http://practicalcryptography.com/ciphers/caesar-cipher/.\n",
    "\n",
    "EG:\n",
    "\n",
    "Shift|A|B|C|D|E|F|G|H|I|J|K|L|M|N|O|P|Q|R|S|T|U|V|W|X|Y|Z|\n",
    "-|-|-|-|-|-|-|-|-|-|-|-|-|-|-|-|-|-|-|-|-|-|-|-|-|-|-|\n",
    "1|B|C|D|E|F|G|H|I|J|K|L|M|N|O|P|Q|R|S|T|U|V|W|X|Y|Z|A|\n",
    "2|C|D|E|F|G|H|I|J|K|L|M|N|O|P|Q|R|S|T|U|V|W|X|Y|Z|A|B|\n",
    "10|K|L|M|N|O|P|Q|R|S|T|U|V|W|X|Y|Z|A|B|C|D|E|F|G|H|I|J|\n",
    "\n",
    "In the case of using an alphabet which has been shifted by 1, 'A' will be replaced with 'B', 'B' will be replaced with 'C', ..., 'Z' is replaced with 'A'.\n",
    "\n",
    "#### 2.1)\n",
    "Complete the following function which takes a string and an integer which represents the shift and returns an encoded string."
   ]
  },
  {
   "cell_type": "code",
   "execution_count": 18,
   "metadata": {},
   "outputs": [
    {
     "output_type": "stream",
     "name": "stdout",
     "text": "BCDE\nIRREDU\nCDE\n\nAll asserts have passed\n"
    }
   ],
   "source": [
    "# COMPACT SOLUTION\n",
    "OFFSET = ord('A')\n",
    "def encode_string(message, shift=5):\n",
    "    # ord(c) -> returns the character code\n",
    "    # subtract ord('A') to normalize the codes (0, 25)\n",
    "    # Add the shift to the normalized code\n",
    "    # This might result in overflow eg: 24 + 5 = 29\n",
    "    #     Mod by the number of characters to wrap around 29 % 26 -> 3\n",
    "    # Use ord(code) to convert the code back to a character\n",
    "    message = ''.join(\n",
    "        [chr((ord(c.upper()) + shift - OFFSET)%26 + OFFSET) for c in message]\n",
    "    )\n",
    "    return message\n",
    "\n",
    "assert encode_string('ABCD', 1) == 'BCDE', \"encode_string('ABCD', 1) should return 'BCDE'\"\n",
    "assert encode_string('FOOBAR', 3) == 'IRREDU', \"encode_string('FOOBAR', 3) should return 'IRREDU'\"\n",
    "assert encode_string('XYZ') == 'CDE', \"encode_string('XYZ') should return 'CDE'\"\n",
    "\n",
    "print(\"\\nAll asserts have passed\")"
   ]
  },
  {
   "cell_type": "code",
   "execution_count": 21,
   "metadata": {},
   "outputs": [
    {
     "output_type": "stream",
     "name": "stdout",
     "text": "\nAll asserts have passed\n"
    }
   ],
   "source": [
    "\n",
    "import string\n",
    "CHARSET = string.ascii_uppercase\n",
    "# You could also set manually\n",
    "    # CHARSET = 'ABCDEFGHIJKLMNOPQRSTUVWXYZ'\n",
    "\n",
    "def encode_string(message, shift=5):\n",
    "    # Create a lookup dictionary mapping each character to its rotated equivilant\n",
    "    rotated = {c: CHARSET[(i + shift) % 26] for i, c in enumerate(CHARSET)}\n",
    "    # build the encoded string using the rotated dictionary\n",
    "    result = ''\n",
    "    for c in message:\n",
    "        result += rotated[c]\n",
    "    return result\n",
    "\n",
    "assert encode_string('ABCD', 1) == 'BCDE', \"encode_string('ABCD', 1) should return 'BCDE'\"\n",
    "assert encode_string('FOOBAR', 3) == 'IRREDU', \"encode_string('FOOBAR', 3) should return 'IRREDU'\"\n",
    "assert encode_string('XYZ') == 'CDE', \"encode_string('XYZ') should return 'CDE'\"\n",
    "\n",
    "print(\"\\nAll asserts have passed\")"
   ]
  },
  {
   "cell_type": "markdown",
   "metadata": {},
   "source": [
    "#### 2.2)\n",
    "\n",
    "Complete the following function which takes a string and an integer which represents the shift and returns the decoded message"
   ]
  },
  {
   "cell_type": "code",
   "execution_count": 22,
   "metadata": {},
   "outputs": [
    {
     "output_type": "stream",
     "name": "stdout",
     "text": "\nAll asserts have passed\n"
    }
   ],
   "source": [
    "# You could either do the opposite of what you did for the encode string, alternatively you could use the same function with a reverse shift\n",
    "def decode_string(message, shift=5):\n",
    "    return encode_string(message, -shift)\n",
    "\n",
    "assert decode_string('MNO', 10) == 'CDE', \"decode_string('MNO', 10) should return 'CDE'\"\n",
    "assert decode_string('PYTHON') == 'KTOCJI', \"decode_string('PYTHON') should return 'KTOCJI'\"\n",
    "\n",
    "assert decode_string(encode_string('ABCD', 1), 1) == 'ABCD', \"decode_string(encode_string('ABCD', 1), 1) should return 'ABCD'\"\n",
    "assert decode_string(encode_string('FOOBAR', 3), 3) == 'FOOBAR', \"decode_string(encode_string('FOOBAR', 3), 3) should return 'FOOBAR'\"\n",
    "assert decode_string(encode_string('XYZ')) == 'XYZ', \"decode_string(encode_string('XYZ')) should return 'XYZ'\"\n",
    "\n",
    "print(\"\\nAll asserts have passed\")"
   ]
  },
  {
   "cell_type": "markdown",
   "metadata": {},
   "source": [
    "### Question 3\n",
    "\n",
    "Write code which will reproduce each of the following patterns given an input size N\n",
    "\n",
    "Example:\n",
    "\n",
    "```\n",
    "N = 10\n",
    "\n",
    " x x x x x x x x x x\n",
    " x o x o x o x o x o\n",
    " x x x x x x x x x x\n",
    " x o x o x o x o x o\n",
    " x x x x x x x x x x\n",
    " x o x o x o x o x o\n",
    " x x x x x x x x x x\n",
    " x o x o x o x o x o\n",
    " x x x x x x x x x x\n",
    " x o x o x o x o x o\n",
    "\n",
    "```"
   ]
  },
  {
   "cell_type": "code",
   "execution_count": null,
   "metadata": {},
   "outputs": [],
   "source": [
    "N = 11\n",
    "pattern = [[' x' for x in range(N)] for y in range(N)]\n",
    "\n",
    "for j in range(N):\n",
    "    for i  in range(N):\n",
    "        if j%2 == 1 or i%2 == 1:\n",
    "            pattern[j][i] = ' o'\n",
    "\n",
    "print('-'*(N*2))\n",
    "for row in pattern:\n",
    "    print(''.join(row))\n",
    "    \n",
    "# Another approch is to use the list comprehension to define everything (this is not necessarily easier)\n",
    "print('-'*(N*2))\n",
    "\n",
    "pattern = [[' o' if y%2 == 1 or x%2 == 1 else ' x' for x in range(N)] for y in range(N)]\n",
    "\n",
    "for row in pattern:\n",
    "    print(''.join(row))\n",
    ""
   ]
  },
  {
   "cell_type": "markdown",
   "metadata": {},
   "source": [
    "#### 3.1)\n",
    "\n",
    "```\n",
    "N = 10\n",
    "\n",
    " x x x x x x x x x x\n",
    " x o o o o o o o o x\n",
    " x o o o o o o o o x\n",
    " x o o o o o o o o x\n",
    " x o o o o o o o o x\n",
    " x o o o o o o o o x\n",
    " x o o o o o o o o x\n",
    " x o o o o o o o o x\n",
    " x o o o o o o o o x\n",
    " x x x x x x x x x x\n",
    "```"
   ]
  },
  {
   "cell_type": "code",
   "execution_count": 38,
   "metadata": {},
   "outputs": [
    {
     "output_type": "stream",
     "name": "stdout",
     "text": "----------------------\n x x x x x x x x x x x\n x o o o o o o o o o x\n x o o o o o o o o o x\n x o o o o o o o o o x\n x o o o o o o o o o x\n x o o o o o o o o o x\n x o o o o o o o o o x\n x o o o o o o o o o x\n x o o o o o o o o o x\n x o o o o o o o o o x\n x x x x x x x x x x x\n----------------------\n x x x x x x x x x x x\n x o o o o o o o o o x\n x o o o o o o o o o x\n x o o o o o o o o o x\n x o o o o o o o o o x\n x o o o o o o o o o x\n x o o o o o o o o o x\n x o o o o o o o o o x\n x o o o o o o o o o x\n x o o o o o o o o o x\n x x x x x x x x x x x\n"
    }
   ],
   "source": [
    "#COMPLETE 3.1\n",
    "N = 11\n",
    "pattern = [[' o' for x in range(N)] for y in range(N)]\n",
    "\n",
    "for j in range(N):\n",
    "    for i  in range(N):\n",
    "        if j == 0 or j == N-1 or i == 0 or i == N-1:\n",
    "            pattern[j][i] = ' x'\n",
    "\n",
    "print('-'*(N*2))\n",
    "for row in pattern:\n",
    "    print(''.join(row))\n",
    "    \n",
    "# Another approch is to use the list comprehension to define everything (this is not necessarily easier)\n",
    "print('-'*(N*2))\n",
    "\n",
    "pattern = [[' x' if x == 0 or x == N-1 or y == 0 or y == N-1 else ' o' for x in range(N)] for y in range(N)]\n",
    "\n",
    "for row in pattern:\n",
    "    print(''.join(row))"
   ]
  },
  {
   "cell_type": "markdown",
   "metadata": {},
   "source": [
    "#### 3.2)\n",
    "\n",
    "```\n",
    "N = 9\n",
    "\n",
    " x o o o o o o o x\n",
    " o x o o o o o x o\n",
    " o o x o o o x o o\n",
    " o o o x o x o o o\n",
    " o o o o x o o o o\n",
    " o o o x o x o o o\n",
    " o o x o o o x o o\n",
    " o x o o o o o x o\n",
    " x o o o o o o o x\n",
    " \n",
    "N = 10\n",
    "\n",
    " x o o o o o o o o x\n",
    " o x o o o o o o x o\n",
    " o o x o o o o x o o\n",
    " o o o x o o x o o o\n",
    " o o o o x x o o o o\n",
    " o o o o x x o o o o\n",
    " o o o x o o x o o o\n",
    " o o x o o o o x o o\n",
    " o x o o o o o o x o\n",
    " x o o o o o o o o x\n",
    "\n",
    "\n",
    "```"
   ]
  },
  {
   "cell_type": "code",
   "execution_count": 41,
   "metadata": {},
   "outputs": [
    {
     "output_type": "stream",
     "name": "stdout",
     "text": "--------------------\n x o o o o o o o o x\n o x o o o o o o x o\n o o x o o o o x o o\n o o o x o o x o o o\n o o o o x x o o o o\n o o o o x x o o o o\n o o o x o o x o o o\n o o x o o o o x o o\n o x o o o o o o x o\n x o o o o o o o o x\n--------------------\n x o o o o o o o o x\n o x o o o o o o x o\n o o x o o o o x o o\n o o o x o o x o o o\n o o o o x x o o o o\n o o o o x x o o o o\n o o o x o o x o o o\n o o x o o o o x o o\n o x o o o o o o x o\n x o o o o o o o o x\n"
    }
   ],
   "source": [
    "#COMPLETE 3.1\n",
    "N = 10\n",
    "pattern = [[' o' for x in range(N)] for y in range(N)]\n",
    "\n",
    "for j in range(N):\n",
    "    for i  in range(N):\n",
    "        if j == i or j == (N-1-i):\n",
    "            pattern[j][i] = ' x'\n",
    "\n",
    "print('-'*(N*2))\n",
    "for row in pattern:\n",
    "    print(''.join(row))\n",
    "    \n",
    "# Another approch is to use the list comprehension to define everything (this is not necessarily easier)\n",
    "print('-'*(N*2))\n",
    "\n",
    "pattern = [[' x' if y == x or y == (N-1-x) else ' o' for x in range(N)] for y in range(N)]\n",
    "\n",
    "for row in pattern:\n",
    "    print(''.join(row))"
   ]
  },
  {
   "cell_type": "markdown",
   "metadata": {},
   "source": [
    "#### 3.3)\n",
    "\n",
    "```\n",
    "N = 10\n",
    "\n",
    " o x o x o x o x o x\n",
    " x o x o x o x o x o\n",
    " o x o x o x o x o x\n",
    " x o x o x o x o x o\n",
    " o x o x o x o x o x\n",
    " x o x o x o x o x o\n",
    " o x o x o x o x o x\n",
    " x o x o x o x o x o\n",
    " o x o x o x o x o x\n",
    " x o x o x o x o x o\n",
    "\n",
    "```"
   ]
  },
  {
   "cell_type": "code",
   "execution_count": 47,
   "metadata": {},
   "outputs": [
    {
     "output_type": "stream",
     "name": "stdout",
     "text": "--------------------\n o x o x o x o x o x\n x o x o x o x o x o\n o x o x o x o x o x\n x o x o x o x o x o\n o x o x o x o x o x\n x o x o x o x o x o\n o x o x o x o x o x\n x o x o x o x o x o\n o x o x o x o x o x\n x o x o x o x o x o\n--------------------\n o x o x o x o x o x\n x o x o x o x o x o\n o x o x o x o x o x\n x o x o x o x o x o\n o x o x o x o x o x\n x o x o x o x o x o\n o x o x o x o x o x\n x o x o x o x o x o\n o x o x o x o x o x\n x o x o x o x o x o\n"
    }
   ],
   "source": [
    "#COMPLETE 3.1\n",
    "N = 10\n",
    "pattern = [[' o' for x in range(N)] for y in range(N)]\n",
    "\n",
    "for j in range(N):\n",
    "    for i  in range(N):\n",
    "        if (j + i) % 2 == 1:\n",
    "            pattern[j][i] = ' x'\n",
    "\n",
    "print('-'*(N*2))\n",
    "for row in pattern:\n",
    "    print(''.join(row))\n",
    "    \n",
    "# Another approch is to use the list comprehension to define everything (this is not necessarily easier)\n",
    "print('-'*(N*2))\n",
    "\n",
    "pattern = [[' x' if (x + y) % 2 == 1 else ' o' for x in range(N)] for y in range(N)]\n",
    "\n",
    "for row in pattern:\n",
    "    print(''.join(row))"
   ]
  },
  {
   "cell_type": "markdown",
   "metadata": {},
   "source": [
    "#### 3.4)\n",
    "\n",
    "```\n",
    "N = 9\n",
    " x x x x x x x x x\n",
    " x x x x o x x x x\n",
    " x x x o o o x x x\n",
    " x x o o o o o x x\n",
    " x o o o o o o o x\n",
    " x x o o o o o x x\n",
    " x x x o o o x x x\n",
    " x x x x o x x x x\n",
    " x x x x x x x x x\n",
    "\n",
    "\n",
    "N = 10\n",
    "\n",
    " x x x x x x x x x x\n",
    " x x x x o o x x x x\n",
    " x x x o o o o x x x\n",
    " x x o o o o o o x x\n",
    " x o o o o o o o o x\n",
    " x o o o o o o o o x\n",
    " x x o o o o o o x x\n",
    " x x x o o o o x x x\n",
    " x x x x o o x x x x\n",
    " x x x x x x x x x x\n",
    "```"
   ]
  },
  {
   "cell_type": "code",
   "execution_count": 179,
   "metadata": {},
   "outputs": [
    {
     "output_type": "stream",
     "name": "stdout",
     "text": "------------------\n x x x x x x x x x\n x x x x o x x x x\n x x x o o o x x x\n x x o o o o o x x\n x o o o o o o o x\n x x o o o o o x x\n x x x o o o x x x\n x x x x o x x x x\n x x x x x x x x x\n------------------\n x x x x x x x x x\n x x x x o x x x x\n x x x o o o x x x\n x x o o o o o x x\n x o o o o o o o x\n x x o o o o o x x\n x x x o o o x x x\n x x x x o x x x x\n x x x x x x x x x\n"
    }
   ],
   "source": [
    "#COMPLETE 3.1\n",
    "N = 9\n",
    "\n",
    "# function to check whether the coordinates are in the diamond\n",
    "# Using abs the four checks can be condensed into two\n",
    "# These checks use the forumla y = mx + c as a starting point and then equalities to see if a point lies above or under that line\n",
    "\n",
    "def in_range(x, y):\n",
    "    mid_point = (N-1) / 2\n",
    "    offset_x = x - mid_point\n",
    "    under_top_left = y > -offset_x\n",
    "    above_bottom_right = y < -offset_x + N - 1\n",
    "    under_top_right = y < offset_x + N - 1\n",
    "    above_bottom_left = y > offset_x\n",
    "    return under_top_left and above_bottom_right and under_top_right and above_bottom_left\n",
    "\n",
    "\n",
    "pattern = [[' x' for x in range(N)] for y in range(N)]\n",
    "\n",
    "for j in range(N):\n",
    "    for i  in range(N):\n",
    "        if in_range(j, i):\n",
    "            pattern[j][i] = ' o'\n",
    "\n",
    "print('-'*(N*2))\n",
    "for row in pattern:\n",
    "    print(''.join(row))\n",
    "    \n",
    "# Another approch is to use the list comprehension to define everything (this is not necessarily easier)\n",
    "print('-'*(N*2))\n",
    "\n",
    "pattern = [[' o' if in_range(x, y) else ' x' for x in range(N)] for y in range(N)]\n",
    "\n",
    "for row in pattern:\n",
    "    print(''.join(row))"
   ]
  },
  {
   "cell_type": "code",
   "execution_count": null,
   "metadata": {},
   "outputs": [],
   "source": []
  },
  {
   "cell_type": "code",
   "execution_count": null,
   "metadata": {},
   "outputs": [],
   "source": []
  }
 ],
 "metadata": {
  "kernelspec": {
   "display_name": "Python 3.7.7 64-bit ('itp_2020': conda)",
   "language": "python",
   "name": "python37764bititp2020conda206e7e77a867479aa2e02e28d45606c9"
  },
  "language_info": {
   "codemirror_mode": {
    "name": "ipython",
    "version": 3
   },
   "file_extension": ".py",
   "mimetype": "text/x-python",
   "name": "python",
   "nbconvert_exporter": "python",
   "pygments_lexer": "ipython3",
   "version": "3.7.7-final"
  }
 },
 "nbformat": 4,
 "nbformat_minor": 2
}